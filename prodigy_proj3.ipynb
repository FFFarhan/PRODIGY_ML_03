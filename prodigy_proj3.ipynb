{
 "cells": [
  {
   "cell_type": "code",
   "execution_count": 1,
   "id": "2fa58464-8ef1-462d-9dbe-0f1fb9125a08",
   "metadata": {},
   "outputs": [],
   "source": [
    "import numpy as np\n",
    "import os\n",
    "from sklearn.model_selection import train_test_split\n",
    "from sklearn.svm import SVC\n",
    "from sklearn.metrics import accuracy_score\n",
    "from PIL import Image\n",
    "from sklearn.model_selection import GridSearchCV, train_test_split\n",
    "from sklearn.preprocessing import MinMaxScaler"
   ]
  },
  {
   "cell_type": "code",
   "execution_count": 2,
   "id": "2a8f05c0-4255-4bb0-b6a4-859418e80a2f",
   "metadata": {},
   "outputs": [],
   "source": [
    "from PIL import Image\n",
    "import os\n",
    "import numpy as np\n",
    "\n",
    "def load_images(root_folder):\n",
    "    images = []\n",
    "    labels = []\n",
    "    for dataset_type in ['train', 'test', 'validation']:\n",
    "        dataset_folder = os.path.join(root_folder, dataset_type)\n",
    "        for category in ['cats', 'dogs']:\n",
    "            category_folder = os.path.join(dataset_folder, category)\n",
    "            label = 0 if category == 'cats' else 1\n",
    "            for filename in os.listdir(category_folder):\n",
    "                if filename.endswith(('.jpg', '.jpeg', '.png')):\n",
    "                    img_path = os.path.join(category_folder, filename)\n",
    "                    img = Image.open(img_path).convert('L').resize((50, 50))\n",
    "                    images.append(np.array(img).flatten())\n",
    "                    labels.append(label)\n",
    "    return np.array(images), np.array(labels)\n"
   ]
  },
  {
   "cell_type": "code",
   "execution_count": 3,
   "id": "7b26ca2e-daa2-4e2d-804e-19335cfb5c00",
   "metadata": {},
   "outputs": [],
   "source": [
    "# Load the dataset from the local directory\n",
    "data_folder=\"C:/Users/farha_5s5ygrk/Desktop/cats_and_dogs\"\n",
    "images, labels = load_images(data_folder)\n"
   ]
  },
  {
   "cell_type": "code",
   "execution_count": 4,
   "id": "a60341c2-2134-4eb7-a53e-d13b8a04cb14",
   "metadata": {},
   "outputs": [
    {
     "name": "stdout",
     "output_type": "stream",
     "text": [
      "Shape of images array: (4000, 2500)\n",
      "Shape of labels array: (4000,)\n"
     ]
    }
   ],
   "source": [
    "# Check the shape of the loaded images and labels\n",
    "print(\"Shape of images array:\", images.shape)\n",
    "print(\"Shape of labels array:\", labels.shape)"
   ]
  },
  {
   "cell_type": "code",
   "execution_count": 5,
   "id": "10dddf56-f9e4-4a37-adc1-b6515d07284e",
   "metadata": {},
   "outputs": [],
   "source": [
    "# Split the dataset into training and testing sets\n",
    "X_train, X_test, y_train, y_test = train_test_split(images, labels, test_size=0.2, random_state=42)\n"
   ]
  },
  {
   "cell_type": "code",
   "execution_count": 6,
   "id": "8cde4ec3-f258-4206-b98e-df74628755ec",
   "metadata": {},
   "outputs": [],
   "source": [
    "# Scale features\n",
    "scaler = MinMaxScaler()\n",
    "X_train_scaled = scaler.fit_transform(X_train)\n",
    "X_test_scaled = scaler.transform(X_test)\n",
    "\n",
    "# Define parameter grid for grid search\n",
    "param_grid = {'C': [0.1, 1, 10, 100],\n",
    "              'kernel': ['linear', 'poly', 'rbf', 'sigmoid']}\n",
    "\n",
    "# Perform grid search with cross-validation\n",
    "grid_search = GridSearchCV(SVC(), param_grid, cv=5)\n",
    "grid_search.fit(X_train_scaled, y_train)\n",
    "\n",
    "# Get best parameters and model\n",
    "best_params = grid_search.best_params_\n",
    "best_model = grid_search.best_estimator_"
   ]
  },
  {
   "cell_type": "code",
   "execution_count": 7,
   "id": "5d6c5727-e663-4118-a37e-fb9a851fb44e",
   "metadata": {},
   "outputs": [
    {
     "name": "stdout",
     "output_type": "stream",
     "text": [
      "Best Parameters: {'C': 1, 'kernel': 'rbf'}\n",
      "Accuracy: 0.60125\n"
     ]
    }
   ],
   "source": [
    "# Train the best model on the entire training set\n",
    "best_model.fit(X_train_scaled, y_train)\n",
    "\n",
    "# Predict labels for test set\n",
    "y_pred = best_model.predict(X_test_scaled)\n",
    "\n",
    "# Calculate accuracy\n",
    "accuracy = accuracy_score(y_test, y_pred)\n",
    "print(\"Best Parameters:\", best_params)\n",
    "print(\"Accuracy:\", accuracy)"
   ]
  },
  {
   "cell_type": "code",
   "execution_count": null,
   "id": "69c28809-d77f-40da-8751-892595455fa2",
   "metadata": {},
   "outputs": [],
   "source": []
  }
 ],
 "metadata": {
  "kernelspec": {
   "display_name": "Python 3 (ipykernel)",
   "language": "python",
   "name": "python3"
  },
  "language_info": {
   "codemirror_mode": {
    "name": "ipython",
    "version": 3
   },
   "file_extension": ".py",
   "mimetype": "text/x-python",
   "name": "python",
   "nbconvert_exporter": "python",
   "pygments_lexer": "ipython3",
   "version": "3.11.7"
  },
  "widgets": {
   "application/vnd.jupyter.widget-state+json": {
    "state": {},
    "version_major": 2,
    "version_minor": 0
   }
  }
 },
 "nbformat": 4,
 "nbformat_minor": 5
}
